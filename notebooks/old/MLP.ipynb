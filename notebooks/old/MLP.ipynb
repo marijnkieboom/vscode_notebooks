{
 "cells": [
  {
   "cell_type": "code",
   "execution_count": 21,
   "metadata": {},
   "outputs": [],
   "source": [
    "import torch"
   ]
  },
  {
   "cell_type": "code",
   "execution_count": 22,
   "metadata": {},
   "outputs": [
    {
     "name": "stdout",
     "output_type": "stream",
     "text": [
      "Selected device: cuda\n"
     ]
    }
   ],
   "source": [
    "### Select device (GPU)\n",
    "device = 'cuda' if torch.cuda.is_available() else 'cpu'\n",
    "# device = 'cpu'\n",
    "print('Selected device:', device)"
   ]
  },
  {
   "cell_type": "code",
   "execution_count": 23,
   "metadata": {},
   "outputs": [
    {
     "name": "stdout",
     "output_type": "stream",
     "text": [
      "Random line: yesterday; for the other has half, by the entreaty\n",
      "Size of dataset: 40001 lines\n"
     ]
    }
   ],
   "source": [
    "with open('../data-sets/tiny_shakespeare.txt', 'r', encoding='utf-8') as f:\n",
    "    text = f.read()\n",
    "\n",
    "dataset = text\n",
    "\n",
    "import random\n",
    "print('Random line:', random.choice(dataset.split('\\n')))\n",
    "print('Size of dataset:', len(dataset.split('\\n')), 'lines')"
   ]
  },
  {
   "cell_type": "code",
   "execution_count": 24,
   "metadata": {},
   "outputs": [
    {
     "name": "stdout",
     "output_type": "stream",
     "text": [
      "['\\n', ' ', '!', '$', '&', \"'\", ',', '-', '.', '3', ':', ';', '?', 'A', 'B', 'C', 'D', 'E', 'F', 'G', 'H', 'I', 'J', 'K', 'L', 'M', 'N', 'O', 'P', 'Q', 'R', 'S', 'T', 'U', 'V', 'W', 'X', 'Y', 'Z', 'a', 'b', 'c', 'd', 'e', 'f', 'g', 'h', 'i', 'j', 'k', 'l', 'm', 'n', 'o', 'p', 'q', 'r', 's', 't', 'u', 'v', 'w', 'x', 'y', 'z']\n",
      "Number of unique chars: 65\n"
     ]
    }
   ],
   "source": [
    "unique_chars = sorted(set(dataset))\n",
    "\n",
    "print(unique_chars)\n",
    "\n",
    "char_to_num = {char: num for num, char in enumerate(unique_chars)}\n",
    "num_to_char = {num: char for char, num in char_to_num.items()}\n",
    "\n",
    "Vs = len(unique_chars) # Vocabulary size |V|\n",
    "print('Number of unique chars:', Vs)"
   ]
  },
  {
   "cell_type": "code",
   "execution_count": 25,
   "metadata": {},
   "outputs": [
    {
     "name": "stdout",
     "output_type": "stream",
     "text": [
      "Random example: [57, 1, 41, 59, 56, 57, 43, 42, 1, 46, 39, 52, 42, 0, 25] => 59\n",
      "Amount of train examples: 892315\n"
     ]
    }
   ],
   "source": [
    "### Create data set ###\n",
    "n = 15\n",
    "\n",
    "def build_dataset(data):\n",
    "    X, Y = [], []\n",
    "    \n",
    "    context = [0] * n\n",
    "    \n",
    "    for ch in data:\n",
    "        X.append(context)\n",
    "        ix = char_to_num[ch]\n",
    "        Y.append(ix)\n",
    "        context = context[1:] + [ix]\n",
    "\n",
    "    X = torch.tensor(X, device=device)\n",
    "    Y = torch.tensor(Y, device=device)\n",
    "\n",
    "    return X, Y\n",
    "\n",
    "split = int(0.8 * len(dataset))\n",
    "\n",
    "Xtr, Ytr = build_dataset(dataset[:split])\n",
    "Xte, Yte = build_dataset(dataset[split:])\n",
    "\n",
    "import random\n",
    "ix = random.randint(0, len(Xtr) - 1) \n",
    "print('Random example:', Xtr[ix].tolist(), '=>', Ytr[ix].item())\n",
    "print('Amount of train examples:', len(Xtr))"
   ]
  },
  {
   "cell_type": "code",
   "execution_count": 26,
   "metadata": {},
   "outputs": [
    {
     "name": "stdout",
     "output_type": "stream",
     "text": [
      "Total parameters: 219115\n"
     ]
    }
   ],
   "source": [
    "import torch.nn as nn\n",
    "\n",
    "### Initialize Neural Network ###\n",
    "\n",
    "m = 20  # The number of features associated with each char\n",
    "h = 250 # The number of hidden units\n",
    "\n",
    "model = nn.Sequential(\n",
    "    nn.Embedding(Vs, m),\n",
    "    nn.Flatten(),\n",
    "    nn.Linear(n * m, h, bias=False), nn.LayerNorm(h), nn.Tanh(),\n",
    "    nn.Linear(h,     h, bias=False), nn.LayerNorm(h), nn.Tanh(),\n",
    "    nn.Linear(h,     h, bias=False), nn.LayerNorm(h), nn.Tanh(),\n",
    "    nn.Linear(h,     Vs)\n",
    ").to(device)\n",
    "\n",
    "with torch.no_grad():\n",
    "    model[-1].weight *= 0.1\n",
    "\n",
    "# for p in model.parameters():\n",
    "#     p.requires_grad = True\n",
    "\n",
    "print('Total parameters:', sum(p.numel() for p in model.parameters()))"
   ]
  },
  {
   "cell_type": "code",
   "execution_count": 27,
   "metadata": {},
   "outputs": [
    {
     "name": "stderr",
     "output_type": "stream",
     "text": [
      "  0%|          | 0/100000 [00:00<?, ?it/s]"
     ]
    },
    {
     "name": "stderr",
     "output_type": "stream",
     "text": [
      "100%|██████████| 100000/100000 [01:10<00:00, 1410.07it/s]"
     ]
    },
    {
     "name": "stdout",
     "output_type": "stream",
     "text": [
      "Final training loss: 1.339\n",
      "Final test loss: 1.733\n"
     ]
    },
    {
     "name": "stderr",
     "output_type": "stream",
     "text": [
      "\n"
     ]
    }
   ],
   "source": [
    "import torch.nn.functional as F\n",
    "\n",
    "### Train model ###\n",
    "epochs = 100000\n",
    "batch_size = 128\n",
    "lr = 0.1\n",
    "eval_batch_size = 10000\n",
    "\n",
    "epoch_count = []\n",
    "loss_values = []\n",
    "\n",
    "from tqdm import trange\n",
    "for epoch in trange(epochs):\n",
    "    model.train()\n",
    "    \n",
    "    # Sample mini-batch\n",
    "    ix = torch.randint(0, Xtr.shape[0], (batch_size,), device=device)\n",
    "    Xb, Yb = Xtr[ix], Ytr[ix]\n",
    "    \n",
    "    logits = model(Xb)\n",
    "    loss = F.cross_entropy(logits, Yb) # Logits shape = B x vocab_size, Yb shape = B\n",
    "\n",
    "    # Zero grad params\n",
    "    for p in model.parameters():\n",
    "        p.grad = None\n",
    "\n",
    "    # Backpropagation\n",
    "    loss.backward()\n",
    "\n",
    "    # Step\n",
    "    for p in model.parameters():\n",
    "        p.data += -lr * p.grad\n",
    "\n",
    "    # Report progression every so often\n",
    "    if ((epoch + 1) % (epochs / 200) == 0):\n",
    "        \n",
    "        ix = torch.randint(0, Xtr.shape[0], (eval_batch_size,), device=device)\n",
    "        Xb, Yb = Xtr[ix], Ytr[ix]\n",
    "    \n",
    "        model.eval()\n",
    "        with torch.inference_mode():\n",
    "            logits = model(Xb)\n",
    "            loss = F.cross_entropy(logits, Yb)\n",
    "\n",
    "        epoch_count.append(epoch)\n",
    "        loss_values.append(loss.detach().item())\n",
    "\n",
    "# Evaluate model on test data after training is finished\n",
    "ix = torch.randint(0, Xte.shape[0], (eval_batch_size,), device=device)\n",
    "Xb, Yb = Xte[ix], Yte[ix]\n",
    "\n",
    "model.eval()\n",
    "with torch.inference_mode():\n",
    "  logits = model(Xb)\n",
    "  test_loss = F.cross_entropy(logits, Yb)\n",
    "\n",
    "# Print final results\n",
    "print('Final training loss:', round(loss.item(), 3))\n",
    "print('Final test loss:', round(test_loss.item(), 3))"
   ]
  },
  {
   "cell_type": "code",
   "execution_count": 28,
   "metadata": {},
   "outputs": [
    {
     "data": {
      "image/png": "[encoded data removed]",
      "text/plain": [
       "<Figure size 1000x500 with 1 Axes>"
      ]
     },
     "metadata": {},
     "output_type": "display_data"
    }
   ],
   "source": [
    "import matplotlib.pyplot as plt\n",
    "\n",
    "### Visualize loss progression ###\n",
    "plt.figure(figsize=(10, 5))\n",
    "plt.plot(epoch_count, loss_values, label=\"Training Loss\")\n",
    "plt.axhline(y = test_loss.item(), linestyle='dashed', color='orange', label=\"Final test loss\")\n",
    "plt.title(\"Loss curve\")\n",
    "plt.xlabel(\"Epochs\")\n",
    "plt.ylabel(\"Loss\")\n",
    "plt.legend()\n",
    "\n",
    "plt.show()"
   ]
  },
  {
   "cell_type": "code",
   "execution_count": 29,
   "metadata": {},
   "outputs": [
    {
     "name": "stdout",
     "output_type": "stream",
     "text": [
      "LIMARES:\n",
      "What in any haile before as good day hand;\n",
      "If no his brace paint,\n",
      "To it is to the soldiers.\n",
      "What no good for corn\n",
      "Frank, 'tis down or a cloud he slain\n",
      "By nerts bass:\n",
      "Now us down, I drance, farewell of thy guardness is many gracious ennow\n",
      "Thou better?\n",
      "\n",
      "EDWARD:\n",
      "I thank it is a bawd!\n",
      "\n",
      "JULIET:\n",
      "I'll bear you, rid, with your heir.\n",
      "\n",
      "PAULINA:\n",
      "Pray aside, friend.\n",
      "\n",
      "MENENIUS:\n",
      "Ouiriss,\n",
      "Which house.'\n",
      "Had it grosperate.\n",
      "\n",
      "RICHMOND:\n",
      "What hate, by Margiring some breath Romeo\n",
      "He marrike and foe, how I have madmets son, v's father Clarence, go, let itself wear wight of bidst and by Richmond,\n",
      "A kind obshour with him: and homs.\n",
      "\n",
      "CORIOLANUS:\n",
      "Pray, lad, I mainted\n",
      "Some fortune.\n",
      "Seajsa'd the dam;\n",
      "You arken cames, to make these suit busy might with ourse\n",
      "To have bereffer fronk.\n",
      "\n",
      "SuMPRLE:\n",
      "Meld shepherd's truck you quickly know!\n",
      "\n",
      "MERCUTIO:\n",
      "What is thy loss in death:\n",
      "Ay woe a flather\n",
      "shepherd Camillo?\n",
      "\n",
      "MENENIUS:\n",
      "Be shall his supposed by my son him! O crackly hand from my weak his slain-back our backs?\n",
      "\n",
      "PO\n"
     ]
    }
   ],
   "source": [
    "### Use model ###\n",
    "\n",
    "model.eval()\n",
    "\n",
    "out = []\n",
    "context = [0] * n\n",
    "\n",
    "while len(out) < 1000:\n",
    "    with torch.inference_mode():\n",
    "        logits = model(torch.tensor([context], device=device))\n",
    "    probs = F.softmax(logits.detach(), dim=1)\n",
    "    ix = torch.multinomial(probs, num_samples=1).item()\n",
    "    context = context[1:] + [ix]\n",
    "    out.append(num_to_char[ix])\n",
    "\n",
    "print(''.join(out))"
   ]
  }
 ],
 "metadata": {
  "kernelspec": {
   "display_name": "venv",
   "language": "python",
   "name": "python3"
  },
  "language_info": {
   "codemirror_mode": {
    "name": "ipython",
    "version": 3
   },
   "file_extension": ".py",
   "mimetype": "text/x-python",
   "name": "python",
   "nbconvert_exporter": "python",
   "pygments_lexer": "ipython3",
   "version": "3.11.6"
  }
 },
 "nbformat": 4,
 "nbformat_minor": 2
}
