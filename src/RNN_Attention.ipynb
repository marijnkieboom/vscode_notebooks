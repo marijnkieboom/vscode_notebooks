{
 "cells": [
  {
   "cell_type": "code",
   "execution_count": 20,
   "metadata": {},
   "outputs": [
    {
     "name": "stdout",
     "output_type": "stream",
     "text": [
      "Selected device: cpu\n"
     ]
    }
   ],
   "source": [
    "import torch\n",
    "\n",
    "\"\"\"Select device (GPU)\"\"\"\n",
    "device = 'cuda' if torch.cuda.is_available() else 'cpu'\n",
    "\n",
    "\n",
    "print('Selected device:', device)"
   ]
  },
  {
   "cell_type": "code",
   "execution_count": 21,
   "metadata": {},
   "outputs": [
    {
     "data": {
      "text/html": [
       "<div>\n",
       "<style scoped>\n",
       "    .dataframe tbody tr th:only-of-type {\n",
       "        vertical-align: middle;\n",
       "    }\n",
       "\n",
       "    .dataframe tbody tr th {\n",
       "        vertical-align: top;\n",
       "    }\n",
       "\n",
       "    .dataframe thead th {\n",
       "        text-align: right;\n",
       "    }\n",
       "</style>\n",
       "<table border=\"1\" class=\"dataframe\">\n",
       "  <thead>\n",
       "    <tr style=\"text-align: right;\">\n",
       "      <th></th>\n",
       "      <th>ENG_TOKENS</th>\n",
       "      <th>NLD_TOKENS</th>\n",
       "    </tr>\n",
       "  </thead>\n",
       "  <tbody>\n",
       "    <tr>\n",
       "      <th>0</th>\n",
       "      <td>ENG_TOKENS</td>\n",
       "      <td>NLD_TOKENS</td>\n",
       "    </tr>\n",
       "    <tr>\n",
       "      <th>1</th>\n",
       "      <td>&lt;SOS&gt; Let 's try something . &lt;EOS&gt;</td>\n",
       "      <td>&lt;SOS&gt; Laten we iets proberen ! &lt;EOS&gt;</td>\n",
       "    </tr>\n",
       "    <tr>\n",
       "      <th>2</th>\n",
       "      <td>&lt;SOS&gt; Let 's try something . &lt;EOS&gt;</td>\n",
       "      <td>&lt;SOS&gt; Laat ons iets proberen . &lt;EOS&gt;</td>\n",
       "    </tr>\n",
       "    <tr>\n",
       "      <th>3</th>\n",
       "      <td>&lt;SOS&gt; I have to go to sleep . &lt;EOS&gt;</td>\n",
       "      <td>&lt;SOS&gt; Ik moet gaan slapen . &lt;EOS&gt;</td>\n",
       "    </tr>\n",
       "    <tr>\n",
       "      <th>4</th>\n",
       "      <td>&lt;SOS&gt; Today is June 18th and it is Muiriel 's ...</td>\n",
       "      <td>&lt;SOS&gt; Vandaag is het 18 juni en het is de verj...</td>\n",
       "    </tr>\n",
       "    <tr>\n",
       "      <th>...</th>\n",
       "      <td>...</td>\n",
       "      <td>...</td>\n",
       "    </tr>\n",
       "    <tr>\n",
       "      <th>153805</th>\n",
       "      <td>&lt;SOS&gt; Cotton candy is usually sold and made at...</td>\n",
       "      <td>&lt;SOS&gt; Suikerspinnen worden gewoonlijk verkocht...</td>\n",
       "    </tr>\n",
       "    <tr>\n",
       "      <th>153806</th>\n",
       "      <td>&lt;SOS&gt; At the moment I am looking for a job . &lt;...</td>\n",
       "      <td>&lt;SOS&gt; Op het moment ben ik op zoek naar werk ....</td>\n",
       "    </tr>\n",
       "    <tr>\n",
       "      <th>153807</th>\n",
       "      <td>&lt;SOS&gt; The unthinkable happened . &lt;EOS&gt;</td>\n",
       "      <td>&lt;SOS&gt; Het ondenkbare is gebeurd . &lt;EOS&gt;</td>\n",
       "    </tr>\n",
       "    <tr>\n",
       "      <th>153808</th>\n",
       "      <td>&lt;SOS&gt; Let 's wait until she rings . &lt;EOS&gt;</td>\n",
       "      <td>&lt;SOS&gt; Laten we wachten tot ze belt ! &lt;EOS&gt;</td>\n",
       "    </tr>\n",
       "    <tr>\n",
       "      <th>153809</th>\n",
       "      <td>&lt;SOS&gt; My mom has her hair in a bun . &lt;EOS&gt;</td>\n",
       "      <td>&lt;SOS&gt; Mijn moeder heeft haar haar in een knot ...</td>\n",
       "    </tr>\n",
       "  </tbody>\n",
       "</table>\n",
       "<p>153810 rows × 2 columns</p>\n",
       "</div>"
      ],
      "text/plain": [
       "                                               ENG_TOKENS  \\\n",
       "0                                              ENG_TOKENS   \n",
       "1                      <SOS> Let 's try something . <EOS>   \n",
       "2                      <SOS> Let 's try something . <EOS>   \n",
       "3                     <SOS> I have to go to sleep . <EOS>   \n",
       "4       <SOS> Today is June 18th and it is Muiriel 's ...   \n",
       "...                                                   ...   \n",
       "153805  <SOS> Cotton candy is usually sold and made at...   \n",
       "153806  <SOS> At the moment I am looking for a job . <...   \n",
       "153807             <SOS> The unthinkable happened . <EOS>   \n",
       "153808          <SOS> Let 's wait until she rings . <EOS>   \n",
       "153809         <SOS> My mom has her hair in a bun . <EOS>   \n",
       "\n",
       "                                               NLD_TOKENS  \n",
       "0                                              NLD_TOKENS  \n",
       "1                    <SOS> Laten we iets proberen ! <EOS>  \n",
       "2                    <SOS> Laat ons iets proberen . <EOS>  \n",
       "3                       <SOS> Ik moet gaan slapen . <EOS>  \n",
       "4       <SOS> Vandaag is het 18 juni en het is de verj...  \n",
       "...                                                   ...  \n",
       "153805  <SOS> Suikerspinnen worden gewoonlijk verkocht...  \n",
       "153806  <SOS> Op het moment ben ik op zoek naar werk ....  \n",
       "153807            <SOS> Het ondenkbare is gebeurd . <EOS>  \n",
       "153808         <SOS> Laten we wachten tot ze belt ! <EOS>  \n",
       "153809  <SOS> Mijn moeder heeft haar haar in een knot ...  \n",
       "\n",
       "[153810 rows x 2 columns]"
      ]
     },
     "execution_count": 21,
     "metadata": {},
     "output_type": "execute_result"
    }
   ],
   "source": [
    "import pandas as pd\n",
    "\n",
    "\"\"\"Load Tokens from CSV\"\"\"\n",
    "df = pd.read_csv(\n",
    "    '../data-sets/Zinparen in Engels-Nederlands - 2024-10-21.csv',\n",
    "    names=['ENG_TOKENS', 'NLD_TOKENS'])\n",
    "\n",
    "\n",
    "df"
   ]
  },
  {
   "cell_type": "code",
   "execution_count": 22,
   "metadata": {},
   "outputs": [
    {
     "name": "stdout",
     "output_type": "stream",
     "text": [
      "Total rows from file: 152194\n",
      "Total rows of train data: 136974\n"
     ]
    },
    {
     "data": {
      "text/html": [
       "<div>\n",
       "<style scoped>\n",
       "    .dataframe tbody tr th:only-of-type {\n",
       "        vertical-align: middle;\n",
       "    }\n",
       "\n",
       "    .dataframe tbody tr th {\n",
       "        vertical-align: top;\n",
       "    }\n",
       "\n",
       "    .dataframe thead th {\n",
       "        text-align: right;\n",
       "    }\n",
       "</style>\n",
       "<table border=\"1\" class=\"dataframe\">\n",
       "  <thead>\n",
       "    <tr style=\"text-align: right;\">\n",
       "      <th></th>\n",
       "      <th>ENG_TOKENS</th>\n",
       "      <th>NLD_TOKENS</th>\n",
       "    </tr>\n",
       "  </thead>\n",
       "  <tbody>\n",
       "    <tr>\n",
       "      <th>0</th>\n",
       "      <td>&lt;SOS&gt; He refused to exercise self-restraint . ...</td>\n",
       "      <td>&lt;SOS&gt; Hij weigerde zich terughoudend op te ste...</td>\n",
       "    </tr>\n",
       "    <tr>\n",
       "      <th>1</th>\n",
       "      <td>&lt;SOS&gt; I 'm Brazilian . &lt;EOS&gt;</td>\n",
       "      <td>&lt;SOS&gt; Ik ben Braziliaanse . &lt;EOS&gt;</td>\n",
       "    </tr>\n",
       "    <tr>\n",
       "      <th>2</th>\n",
       "      <td>&lt;SOS&gt; I 'm hungry . &lt;EOS&gt;</td>\n",
       "      <td>&lt;SOS&gt; Ik heb honger . &lt;EOS&gt;</td>\n",
       "    </tr>\n",
       "    <tr>\n",
       "      <th>3</th>\n",
       "      <td>&lt;SOS&gt; Thanks ! &lt;EOS&gt;</td>\n",
       "      <td>&lt;SOS&gt; Dank je ! &lt;EOS&gt;</td>\n",
       "    </tr>\n",
       "    <tr>\n",
       "      <th>4</th>\n",
       "      <td>&lt;SOS&gt; You 're a good guy . &lt;EOS&gt;</td>\n",
       "      <td>&lt;SOS&gt; U bent een goede mens . &lt;EOS&gt;</td>\n",
       "    </tr>\n",
       "    <tr>\n",
       "      <th>...</th>\n",
       "      <td>...</td>\n",
       "      <td>...</td>\n",
       "    </tr>\n",
       "    <tr>\n",
       "      <th>136969</th>\n",
       "      <td>&lt;SOS&gt; I 'm positive . &lt;EOS&gt;</td>\n",
       "      <td>&lt;SOS&gt; Ik ben er zeker van . &lt;EOS&gt;</td>\n",
       "    </tr>\n",
       "    <tr>\n",
       "      <th>136970</th>\n",
       "      <td>&lt;SOS&gt; The Italians seldom talk about politics ...</td>\n",
       "      <td>&lt;SOS&gt; Italianen praten zelden over politiek . ...</td>\n",
       "    </tr>\n",
       "    <tr>\n",
       "      <th>136971</th>\n",
       "      <td>&lt;SOS&gt; No more than two days have passed . &lt;EOS&gt;</td>\n",
       "      <td>&lt;SOS&gt; Niet meer dan twee dagen gingen voorbij ...</td>\n",
       "    </tr>\n",
       "    <tr>\n",
       "      <th>136972</th>\n",
       "      <td>&lt;SOS&gt; I do n't think it 's a typo . &lt;EOS&gt;</td>\n",
       "      <td>&lt;SOS&gt; Ik denk niet dat dat een typefout is . &lt;...</td>\n",
       "    </tr>\n",
       "    <tr>\n",
       "      <th>136973</th>\n",
       "      <td>&lt;SOS&gt; What is there in the fridge ? &lt;EOS&gt;</td>\n",
       "      <td>&lt;SOS&gt; Wat is er in de koelkast ? &lt;EOS&gt;</td>\n",
       "    </tr>\n",
       "  </tbody>\n",
       "</table>\n",
       "<p>136974 rows × 2 columns</p>\n",
       "</div>"
      ],
      "text/plain": [
       "                                               ENG_TOKENS  \\\n",
       "0       <SOS> He refused to exercise self-restraint . ...   \n",
       "1                            <SOS> I 'm Brazilian . <EOS>   \n",
       "2                               <SOS> I 'm hungry . <EOS>   \n",
       "3                                    <SOS> Thanks ! <EOS>   \n",
       "4                        <SOS> You 're a good guy . <EOS>   \n",
       "...                                                   ...   \n",
       "136969                        <SOS> I 'm positive . <EOS>   \n",
       "136970  <SOS> The Italians seldom talk about politics ...   \n",
       "136971    <SOS> No more than two days have passed . <EOS>   \n",
       "136972          <SOS> I do n't think it 's a typo . <EOS>   \n",
       "136973          <SOS> What is there in the fridge ? <EOS>   \n",
       "\n",
       "                                               NLD_TOKENS  \n",
       "0       <SOS> Hij weigerde zich terughoudend op te ste...  \n",
       "1                       <SOS> Ik ben Braziliaanse . <EOS>  \n",
       "2                             <SOS> Ik heb honger . <EOS>  \n",
       "3                                   <SOS> Dank je ! <EOS>  \n",
       "4                     <SOS> U bent een goede mens . <EOS>  \n",
       "...                                                   ...  \n",
       "136969                  <SOS> Ik ben er zeker van . <EOS>  \n",
       "136970  <SOS> Italianen praten zelden over politiek . ...  \n",
       "136971  <SOS> Niet meer dan twee dagen gingen voorbij ...  \n",
       "136972  <SOS> Ik denk niet dat dat een typefout is . <...  \n",
       "136973             <SOS> Wat is er in de koelkast ? <EOS>  \n",
       "\n",
       "[136974 rows x 2 columns]"
      ]
     },
     "execution_count": 22,
     "metadata": {},
     "output_type": "execute_result"
    }
   ],
   "source": [
    "TRAIN_SPLIT = 0.9\n",
    "MAX_SIZE = 20\n",
    "FORBIDDEN_CHARS = ['€', '$']\n",
    "\n",
    "\"\"\"Filtering\"\"\"\n",
    "def filter(row):\n",
    "\teng_tokens = row['ENG_TOKENS'].split()\n",
    "\tnld_tokens = row['NLD_TOKENS'].split()\n",
    "\n",
    "\tif (len(eng_tokens) > MAX_SIZE):\n",
    "\t\treturn False\n",
    "    \n",
    "\tif (len(nld_tokens) > MAX_SIZE):\n",
    "\t\treturn False\n",
    "\t\n",
    "\tif any(char in eng_tokens or char in nld_tokens for char in FORBIDDEN_CHARS):\n",
    "\t\treturn False\n",
    "\n",
    "\treturn True\n",
    "\n",
    "df = df[df.apply(filter, axis=1)]\n",
    "\n",
    "\"\"\"Splitting Training and Validation Data\"\"\"\n",
    "df = df.sample(frac=1).reset_index(drop=True)\n",
    "split = int(TRAIN_SPLIT * len(df))\n",
    "\n",
    "train_data = df.iloc[:split, :]\n",
    "test_data  = df.iloc[split:, :]\n",
    "test_data.reset_index(drop=True, inplace=True)\n",
    "\n",
    "\n",
    "print('Total rows from file:', len(df))\n",
    "print('Total rows of train data:', len(train_data))\n",
    "train_data"
   ]
  },
  {
   "cell_type": "code",
   "execution_count": 23,
   "metadata": {},
   "outputs": [
    {
     "name": "stdout",
     "output_type": "stream",
     "text": [
      "English vocab size: 7895\n",
      "Dutch vocab size: 9122\n"
     ]
    }
   ],
   "source": [
    "from utils.Vocabulary import Vocabulary\n",
    "\n",
    "\"\"\"Create a vocabulary to lookup indices\"\"\"\n",
    "eng_vocab = Vocabulary('ENG')\n",
    "nld_vocab = Vocabulary('NLD')\n",
    "\n",
    "for sentence in train_data['ENG_TOKENS']:\n",
    "    eng_vocab.add_sentence(sentence)\n",
    "\n",
    "for sentence in train_data['NLD_TOKENS']:\n",
    "    nld_vocab.add_sentence(sentence)\n",
    "\n",
    "eng_vocab.trim()\n",
    "nld_vocab.trim()\n",
    "\n",
    "\n",
    "print('English vocab size:', len(eng_vocab))\n",
    "print('Dutch vocab size:', len(nld_vocab))"
   ]
  },
  {
   "cell_type": "code",
   "execution_count": 24,
   "metadata": {},
   "outputs": [
    {
     "name": "stdout",
     "output_type": "stream",
     "text": [
      "Xtr shape: torch.Size([136974, 20])\n",
      "\n",
      "Random vector:\n",
      "[1, 9, 1538, 38, 564, 1858, 146, 16, 26, 314, 8, 2, 0, 0, 0, 0, 0, 0, 0, 0]\n",
      "[1, 11, 540, 337, 906, 28, 17, 31, 310, 20, 10, 2, 0, 0, 0, 0, 0, 0, 0, 0]\n",
      "\n",
      "['<SOS>', 'I', 'wo', \"n't\", 'tell', 'anybody', 'you', \"'re\", 'in', 'Australia', '.', '<EOS>', '<PAD>', '<PAD>', '<PAD>', '<PAD>', '<PAD>', '<PAD>', '<PAD>', '<PAD>']\n",
      "['<SOS>', 'Ik', 'zal', 'niemand', 'vertellen', 'dat', 'je', 'in', 'Australië', 'bent', '.', '<EOS>', '<PAD>', '<PAD>', '<PAD>', '<PAD>', '<PAD>', '<PAD>', '<PAD>', '<PAD>']\n"
     ]
    }
   ],
   "source": [
    "pad_index = 0 # Same for both ENG and NLD\n",
    "\n",
    "\"\"\"Vectorize tokens\"\"\"\n",
    "def build_dataset(subset):\n",
    "\tX = []\n",
    "\tY = []\n",
    "        \n",
    "\tfor _, row in subset.iterrows():\n",
    "\t\teng_ixs = eng_vocab.lookup_indices(row['ENG_TOKENS'].split())\n",
    "\t\teng_ixs = eng_ixs + [pad_index] * (MAX_SIZE - len(eng_ixs))\n",
    "\t\tX.append(eng_ixs)\n",
    "\n",
    "\t\tnld_ixs = nld_vocab.lookup_indices(row['NLD_TOKENS'].split())\n",
    "\t\tnld_ixs = nld_ixs + [pad_index] * (MAX_SIZE - len(nld_ixs))\n",
    "\t\tY.append(nld_ixs)\n",
    "\n",
    "\tX = torch.tensor(X, dtype=torch.long)\n",
    "\tY = torch.tensor(Y, dtype=torch.long)\n",
    "\n",
    "\treturn X, Y\n",
    "\n",
    "\n",
    "Xtr, Ytr = build_dataset(train_data)\n",
    "Xte, Yte = build_dataset(test_data)\n",
    "\n",
    "\n",
    "import random\n",
    "\n",
    "print('Xtr shape:', Xtr.shape)\n",
    "print()\n",
    "print('Random vector:')\n",
    "ix = random.randint(0, len(Xtr))\n",
    "print(Xtr[ix].tolist())\n",
    "print(Ytr[ix].tolist())\n",
    "print()\n",
    "print(eng_vocab.lookup_tokens(Xtr[ix].tolist()))\n",
    "print(nld_vocab.lookup_tokens(Ytr[ix].tolist()))\n"
   ]
  },
  {
   "cell_type": "code",
   "execution_count": 25,
   "metadata": {},
   "outputs": [],
   "source": [
    "\"\"\" Hyperparameters: \"\"\"\n",
    "\n",
    "# Model parameters\n",
    "emb_dim       = 300\n",
    "hidden_size   = 250 # The same hidden size for encoder and decoder\n",
    "num_layers    =   2\n",
    "dropout       = 0.1\n",
    "\n",
    "# Training parameters\n",
    "batch_size    = 64\n",
    "iterations    = 50000\n",
    "learning_rate = 0.0001 # The lower the batch size, the lower the learning rate\n",
    "weight_decay  = 0 # Penalize complexity by couting weights into the loss function\n",
    "step_size     = 50000 # Period of learning rate decay\n",
    "gamma         = 0.1 # Multiplicative factor of learning rate decay\n",
    "forced_teaching_start_ratio = 0.9\n",
    "forced_teaching_final_ratio = 0"
   ]
  },
  {
   "cell_type": "code",
   "execution_count": 26,
   "metadata": {},
   "outputs": [
    {
     "name": "stdout",
     "output_type": "stream",
     "text": [
      "Total parameters: 10892222\n"
     ]
    }
   ],
   "source": [
    "from RNN.Seq2Seq import Seq2Seq\n",
    "\n",
    "\"\"\" Construct the model \"\"\"\n",
    "model = Seq2Seq(\n",
    "    len(eng_vocab),\n",
    "    len(nld_vocab),\n",
    "    emb_dim,\n",
    "    hidden_size,\n",
    "    hidden_size,\n",
    "    num_layers,\n",
    "    dropout,\n",
    ").to(device)\n",
    "\n",
    "\n",
    "print(\"Total parameters:\", sum(p.numel() for p in model.parameters()))"
   ]
  },
  {
   "cell_type": "code",
   "execution_count": 27,
   "metadata": {},
   "outputs": [],
   "source": [
    "# https://pytorch.org/tutorials/beginner/hyperparameter_tuning_tutorial.html\n",
    "\n",
    "import torch.nn as nn\n",
    "\n",
    "\n",
    "\n",
    "criterion = nn.CrossEntropyLoss() # Loss function\n",
    "optimizer = torch.optim.Adam(model.parameters(), lr=learning_rate, weight_decay=weight_decay) # Optimizer\n",
    "scheduler = torch.optim.lr_scheduler.StepLR(optimizer, step_size=step_size, gamma=gamma) # Learning rate scheduler"
   ]
  },
  {
   "cell_type": "code",
   "execution_count": 28,
   "metadata": {},
   "outputs": [],
   "source": [
    "\"\"\"\n",
    "Functions for the training loop\n",
    "\"\"\"\n",
    "\n",
    "\"\"\" Calculate a teaching ratio, starts with a high ratio and lowers throughout training \"\"\"\n",
    "def forced_teaching_ratio(current_epoch, total_epochs):\n",
    "    start_ratio = forced_teaching_start_ratio\n",
    "    final_ratio = forced_teaching_final_ratio\n",
    "    progress = current_epoch / total_epochs\n",
    "    return start_ratio - (start_ratio - final_ratio) * progress\n",
    "\n",
    "\"\"\" Calculate loss on train and test data \"\"\"\n",
    "def log_statistics(eval_batch_size=64):\n",
    "\n",
    "    inputs = torch.zeros((eval_batch_size, MAX_SIZE), dtype=torch.long).to(device)\n",
    "    inputs[:, 0] = 1 # <SOS> has index of 1\n",
    "\n",
    "    model.eval()\n",
    "    with torch.inference_mode():\n",
    "    \n",
    "        # Sample the models performence on a subset of training data\n",
    "        ix = torch.randint(0, Xtr.shape[0], (eval_batch_size,))\n",
    "        Xb, Yb = Xtr[ix].to(device), Ytr[ix].to(device)\n",
    "        \n",
    "        outputs = model(Xb, inputs)\n",
    "        train_loss = criterion(outputs, Yb)\n",
    "\n",
    "\n",
    "        # Sample the models performence on a subset of testing data\n",
    "        ix = torch.randint(0, Xte.shape[0], (eval_batch_size,))\n",
    "        Xb, Yb = Xte[ix].to(device), Yte[ix].to(device)\n",
    "\n",
    "        outputs = model(Xb, inputs)\n",
    "        test_loss = criterion(outputs, Yb)\n",
    "        \n",
    "        \n",
    "        return train_loss.item(), test_loss.item()"
   ]
  },
  {
   "cell_type": "code",
   "execution_count": 29,
   "metadata": {},
   "outputs": [
    {
     "name": "stderr",
     "output_type": "stream",
     "text": [
      "  0%|          | 31/50000 [00:13<5:51:17,  2.37it/s]\n"
     ]
    },
    {
     "ename": "KeyboardInterrupt",
     "evalue": "",
     "output_type": "error",
     "traceback": [
      "\u001b[0;31m---------------------------------------------------------------------------\u001b[0m",
      "\u001b[0;31mKeyboardInterrupt\u001b[0m                         Traceback (most recent call last)",
      "Cell \u001b[0;32mIn[29], line 21\u001b[0m\n\u001b[1;32m     19\u001b[0m loss \u001b[38;5;241m=\u001b[39m criterion(output, Yb)     \u001b[38;5;66;03m# Calculate the loss\u001b[39;00m\n\u001b[1;32m     20\u001b[0m optimizer\u001b[38;5;241m.\u001b[39mzero_grad()            \u001b[38;5;66;03m# Reset parameters\u001b[39;00m\n\u001b[0;32m---> 21\u001b[0m \u001b[43mloss\u001b[49m\u001b[38;5;241;43m.\u001b[39;49m\u001b[43mbackward\u001b[49m\u001b[43m(\u001b[49m\u001b[43m)\u001b[49m                  \u001b[38;5;66;03m# Backpropagation\u001b[39;00m\n\u001b[1;32m     22\u001b[0m optimizer\u001b[38;5;241m.\u001b[39mstep()                 \u001b[38;5;66;03m# Update parameters\u001b[39;00m\n\u001b[1;32m     23\u001b[0m scheduler\u001b[38;5;241m.\u001b[39mstep()                 \u001b[38;5;66;03m# Step the scheduler\u001b[39;00m\n",
      "File \u001b[0;32m~/Projecten/vscode_notebooks/.venv/lib/python3.12/site-packages/torch/_tensor.py:525\u001b[0m, in \u001b[0;36mTensor.backward\u001b[0;34m(self, gradient, retain_graph, create_graph, inputs)\u001b[0m\n\u001b[1;32m    515\u001b[0m \u001b[38;5;28;01mif\u001b[39;00m has_torch_function_unary(\u001b[38;5;28mself\u001b[39m):\n\u001b[1;32m    516\u001b[0m     \u001b[38;5;28;01mreturn\u001b[39;00m handle_torch_function(\n\u001b[1;32m    517\u001b[0m         Tensor\u001b[38;5;241m.\u001b[39mbackward,\n\u001b[1;32m    518\u001b[0m         (\u001b[38;5;28mself\u001b[39m,),\n\u001b[0;32m   (...)\u001b[0m\n\u001b[1;32m    523\u001b[0m         inputs\u001b[38;5;241m=\u001b[39minputs,\n\u001b[1;32m    524\u001b[0m     )\n\u001b[0;32m--> 525\u001b[0m \u001b[43mtorch\u001b[49m\u001b[38;5;241;43m.\u001b[39;49m\u001b[43mautograd\u001b[49m\u001b[38;5;241;43m.\u001b[39;49m\u001b[43mbackward\u001b[49m\u001b[43m(\u001b[49m\n\u001b[1;32m    526\u001b[0m \u001b[43m    \u001b[49m\u001b[38;5;28;43mself\u001b[39;49m\u001b[43m,\u001b[49m\u001b[43m \u001b[49m\u001b[43mgradient\u001b[49m\u001b[43m,\u001b[49m\u001b[43m \u001b[49m\u001b[43mretain_graph\u001b[49m\u001b[43m,\u001b[49m\u001b[43m \u001b[49m\u001b[43mcreate_graph\u001b[49m\u001b[43m,\u001b[49m\u001b[43m \u001b[49m\u001b[43minputs\u001b[49m\u001b[38;5;241;43m=\u001b[39;49m\u001b[43minputs\u001b[49m\n\u001b[1;32m    527\u001b[0m \u001b[43m\u001b[49m\u001b[43m)\u001b[49m\n",
      "File \u001b[0;32m~/Projecten/vscode_notebooks/.venv/lib/python3.12/site-packages/torch/autograd/__init__.py:267\u001b[0m, in \u001b[0;36mbackward\u001b[0;34m(tensors, grad_tensors, retain_graph, create_graph, grad_variables, inputs)\u001b[0m\n\u001b[1;32m    262\u001b[0m     retain_graph \u001b[38;5;241m=\u001b[39m create_graph\n\u001b[1;32m    264\u001b[0m \u001b[38;5;66;03m# The reason we repeat the same comment below is that\u001b[39;00m\n\u001b[1;32m    265\u001b[0m \u001b[38;5;66;03m# some Python versions print out the first line of a multi-line function\u001b[39;00m\n\u001b[1;32m    266\u001b[0m \u001b[38;5;66;03m# calls in the traceback and some print out the last line\u001b[39;00m\n\u001b[0;32m--> 267\u001b[0m \u001b[43m_engine_run_backward\u001b[49m\u001b[43m(\u001b[49m\n\u001b[1;32m    268\u001b[0m \u001b[43m    \u001b[49m\u001b[43mtensors\u001b[49m\u001b[43m,\u001b[49m\n\u001b[1;32m    269\u001b[0m \u001b[43m    \u001b[49m\u001b[43mgrad_tensors_\u001b[49m\u001b[43m,\u001b[49m\n\u001b[1;32m    270\u001b[0m \u001b[43m    \u001b[49m\u001b[43mretain_graph\u001b[49m\u001b[43m,\u001b[49m\n\u001b[1;32m    271\u001b[0m \u001b[43m    \u001b[49m\u001b[43mcreate_graph\u001b[49m\u001b[43m,\u001b[49m\n\u001b[1;32m    272\u001b[0m \u001b[43m    \u001b[49m\u001b[43minputs\u001b[49m\u001b[43m,\u001b[49m\n\u001b[1;32m    273\u001b[0m \u001b[43m    \u001b[49m\u001b[43mallow_unreachable\u001b[49m\u001b[38;5;241;43m=\u001b[39;49m\u001b[38;5;28;43;01mTrue\u001b[39;49;00m\u001b[43m,\u001b[49m\n\u001b[1;32m    274\u001b[0m \u001b[43m    \u001b[49m\u001b[43maccumulate_grad\u001b[49m\u001b[38;5;241;43m=\u001b[39;49m\u001b[38;5;28;43;01mTrue\u001b[39;49;00m\u001b[43m,\u001b[49m\n\u001b[1;32m    275\u001b[0m \u001b[43m\u001b[49m\u001b[43m)\u001b[49m\n",
      "File \u001b[0;32m~/Projecten/vscode_notebooks/.venv/lib/python3.12/site-packages/torch/autograd/graph.py:744\u001b[0m, in \u001b[0;36m_engine_run_backward\u001b[0;34m(t_outputs, *args, **kwargs)\u001b[0m\n\u001b[1;32m    742\u001b[0m     unregister_hooks \u001b[38;5;241m=\u001b[39m _register_logging_hooks_on_whole_graph(t_outputs)\n\u001b[1;32m    743\u001b[0m \u001b[38;5;28;01mtry\u001b[39;00m:\n\u001b[0;32m--> 744\u001b[0m     \u001b[38;5;28;01mreturn\u001b[39;00m \u001b[43mVariable\u001b[49m\u001b[38;5;241;43m.\u001b[39;49m\u001b[43m_execution_engine\u001b[49m\u001b[38;5;241;43m.\u001b[39;49m\u001b[43mrun_backward\u001b[49m\u001b[43m(\u001b[49m\u001b[43m  \u001b[49m\u001b[38;5;66;43;03m# Calls into the C++ engine to run the backward pass\u001b[39;49;00m\n\u001b[1;32m    745\u001b[0m \u001b[43m        \u001b[49m\u001b[43mt_outputs\u001b[49m\u001b[43m,\u001b[49m\u001b[43m \u001b[49m\u001b[38;5;241;43m*\u001b[39;49m\u001b[43margs\u001b[49m\u001b[43m,\u001b[49m\u001b[43m \u001b[49m\u001b[38;5;241;43m*\u001b[39;49m\u001b[38;5;241;43m*\u001b[39;49m\u001b[43mkwargs\u001b[49m\n\u001b[1;32m    746\u001b[0m \u001b[43m    \u001b[49m\u001b[43m)\u001b[49m  \u001b[38;5;66;03m# Calls into the C++ engine to run the backward pass\u001b[39;00m\n\u001b[1;32m    747\u001b[0m \u001b[38;5;28;01mfinally\u001b[39;00m:\n\u001b[1;32m    748\u001b[0m     \u001b[38;5;28;01mif\u001b[39;00m attach_logging_hooks:\n",
      "\u001b[0;31mKeyboardInterrupt\u001b[0m: "
     ]
    }
   ],
   "source": [
    "from tqdm import trange\n",
    "\n",
    "epoch_count       = []\n",
    "train_loss_values = []\n",
    "test_loss_values  = []\n",
    "learning_rates    = []\n",
    "\n",
    "\n",
    "for i in trange(iterations):\n",
    "    model.train()\n",
    "    ft_ratio = forced_teaching_ratio(i, iterations)\n",
    "\n",
    "    ''' Sample mini-batch and send to gpu '''\n",
    "    ix = torch.randint(0, Xtr.shape[0], (batch_size,))\n",
    "    Xb, Yb = Xtr[ix].to(device), Ytr[ix].to(device)\n",
    "\n",
    "    ''' Perform a single training iteration '''\n",
    "    output = model(Xb, Yb, ft_ratio) # Do the forward pass\n",
    "    loss = criterion(output, Yb)     # Calculate the loss\n",
    "    optimizer.zero_grad()            # Reset parameters\n",
    "    loss.backward()                  # Backpropagation\n",
    "    optimizer.step()                 # Update parameters\n",
    "    scheduler.step()                 # Step the scheduler\n",
    "\n",
    "    ''' Report progression every so often '''\n",
    "    if ((i + 1) % (iterations / 50) == 0):\n",
    "        train_loss, test_loss = log_statistics(batch_size)\n",
    "\n",
    "        epoch_count.append(i) # Visualize\n",
    "        train_loss_values.append(train_loss)\n",
    "        test_loss_values.append(test_loss)\n",
    "        learning_rates.append(scheduler.get_last_lr())\n",
    "\n",
    "\n",
    "''' Determine model's performance based on a larger subset '''\n",
    "train_loss, test_loss = log_statistics(2*batch_size)\n",
    "\n",
    "epoch_count.append(i) # Visualize\n",
    "train_loss_values.append(train_loss)\n",
    "test_loss_values.append(test_loss)\n",
    "learning_rates.append(scheduler.get_last_lr())\n",
    "\n",
    " \n",
    "# Print final results\n",
    "print()\n",
    "print('Final training loss:', round(train_loss, 3))\n",
    "print('Final test loss:    ', round(test_loss, 3))"
   ]
  },
  {
   "cell_type": "code",
   "execution_count": 30,
   "metadata": {},
   "outputs": [
    {
     "data": {
      "image/png": "[encoded data removed]",
      "text/plain": [
       "<Figure size 1200x600 with 2 Axes>"
      ]
     },
     "metadata": {},
     "output_type": "display_data"
    }
   ],
   "source": [
    "import matplotlib.pyplot as plt\n",
    "\n",
    "# Create the figure and the primary y-axis\n",
    "fig, ax1 = plt.subplots(1, 1, figsize=(12, 6))\n",
    "plt.grid()\n",
    "\n",
    "# Plot the loss on the primary y-axis\n",
    "ax1.plot(epoch_count, train_loss_values, label='Training Loss')\n",
    "ax1.plot(epoch_count, test_loss_values, label='Test Loss', linestyle='--')\n",
    "ax1.set_xlabel('Iterations')\n",
    "ax1.set_ylabel('Loss')\n",
    "ax1.set_title('Loss Progression')\n",
    "\n",
    "# Create the secondary y-axis for the learning rate\n",
    "ax2 = ax1.twinx()\n",
    "ax2.plot(epoch_count, learning_rates, label='Learning Rate', color='green')\n",
    "ax2.set_ylabel('Learning Rate', color='green')\n",
    "ax2.tick_params(axis='y', labelcolor='green')\n",
    "\n",
    "# Add legends to each y-axis\n",
    "ax1.legend(loc='upper right')\n",
    "ax2.legend(loc='upper left')\n",
    "\n",
    "# Show the plot\n",
    "plt.show()"
   ]
  },
  {
   "cell_type": "code",
   "execution_count": 31,
   "metadata": {},
   "outputs": [],
   "source": [
    "torch.save(model.state_dict(), '../models/RNN-Attention_24-10-2024.pt')"
   ]
  },
  {
   "cell_type": "code",
   "execution_count": 32,
   "metadata": {},
   "outputs": [
    {
     "name": "stdout",
     "output_type": "stream",
     "text": [
      "Found saved state dictionary!\n"
     ]
    }
   ],
   "source": [
    "import os.path\n",
    "\n",
    "if os.path.isfile('../models/RNN-Attention_24-10-2024.pt'):\n",
    "    print('Found saved state dictionary!')\n",
    "    model.load_state_dict(torch.load('../models/RNN-Attention_24-10-2024.pt'))"
   ]
  },
  {
   "cell_type": "code",
   "execution_count": 33,
   "metadata": {},
   "outputs": [
    {
     "name": "stderr",
     "output_type": "stream",
     "text": [
      "[nltk_data] Downloading package punkt to /home/marijn/nltk_data...\n",
      "[nltk_data]   Package punkt is already up-to-date!\n",
      "[nltk_data] Downloading package punkt_tab to /home/marijn/nltk_data...\n",
      "[nltk_data]   Package punkt_tab is already up-to-date!\n"
     ]
    }
   ],
   "source": [
    "import nltk\n",
    "from nltk.tokenize import word_tokenize\n",
    "\n",
    "# Download the tokenizer models from nltk\n",
    "nltk.download('punkt')\n",
    "nltk.download('punkt_tab')\n",
    "\n",
    "def tokenize_sentence(sentence: str) -> list:\n",
    "    \"\"\"Tokenize a single sentence.\"\"\"\n",
    "    return ['<SOS>'] + word_tokenize(sentence) + ['<EOS>']\n"
   ]
  },
  {
   "cell_type": "code",
   "execution_count": 34,
   "metadata": {},
   "outputs": [],
   "source": [
    "import re\n",
    "\n",
    "def translate(sentence, max_output_length=20):\n",
    "\tinput_tokens = tokenize_sentence(sentence)\n",
    "\tinput_indices = eng_vocab.lookup_indices(input_tokens)\n",
    "\n",
    "\toutput_indices, _ = model.evaluate(input_indices, device, max_output_length)\n",
    "\toutput_tokens = nld_vocab.lookup_tokens(output_indices)\n",
    "\n",
    "\tnew_sentence = ' '.join(output_tokens).capitalize()\n",
    "\tnew_sentence = re.sub(r'\\s+([.,!?])', r'\\1', new_sentence)\n",
    "\n",
    "\treturn new_sentence"
   ]
  },
  {
   "cell_type": "code",
   "execution_count": 35,
   "metadata": {},
   "outputs": [
    {
     "name": "stdout",
     "output_type": "stream",
     "text": [
      "<sos> <pad> <pad> <pad> <pad> <pad> <pad> <pad> <pad> <pad> <pad> <pad> <pad> <pad> <pad> <pad> <pad> <pad> <pad> <pad> <pad>\n",
      "<sos> <pad> <pad> <pad> <pad> <pad> <pad> <pad> <pad> <pad> <pad> <pad> <pad> <pad> <pad> <pad> <pad> <pad> <pad> <pad> <pad>\n",
      "<sos> <pad> <pad> <pad> <pad> <pad> <pad> <pad> <pad> <pad> <pad> <pad> <pad> <pad> <pad> <pad> <pad> <pad> <pad> <pad> <pad>\n",
      "<sos> <pad> <pad> <pad> <pad> <pad> <pad> <pad> <pad> <pad> <pad> <pad> <pad> <pad> <pad> <pad> <pad> <pad> <pad> <pad> <pad>\n",
      "<sos> <pad> <pad> <pad> <pad> <pad> <pad> <pad> <pad> <pad> <pad> <pad> <pad> <pad> <pad> <pad> <pad> <pad> <pad> <pad> <pad>\n",
      "<sos> <pad> <pad> <pad> <pad> <pad> <pad> <pad> <pad> <pad> <pad> <pad> <pad> <pad> <pad> <pad> <pad> <pad> <pad> <pad> <pad>\n",
      "<sos> <pad> <pad> <pad> <pad> <pad> <pad> <pad> <pad> <pad> <pad> <pad> <pad> <pad> <pad> <pad> <pad> <pad> <pad> <pad> <pad>\n",
      "<sos> <pad> <pad> <pad> <pad> <pad> <pad> <pad> <pad> <pad> <pad> <pad> <pad> <pad> <pad> <pad> <pad> <pad> <pad> <pad> <pad>\n",
      "<sos> <pad> <pad> <pad> <pad> <pad> <pad> <pad> <pad> <pad> <pad> <pad> <pad> <pad> <pad> <pad> <pad> <pad> <pad> <pad> <pad>\n",
      "<sos> <pad> <pad> <pad> <pad> <pad> <pad> <pad> <pad> <pad> <pad> <pad> <pad> <pad> <pad> <pad> <pad> <pad> <pad> <pad> <pad>\n",
      "<sos> <pad> <pad> <pad> <pad> <pad> <pad> <pad> <pad> <pad> <pad> <pad> <pad> <pad> <pad> <pad> <pad> <pad> <pad> <pad> <pad>\n"
     ]
    }
   ],
   "source": [
    "### Use model ###\n",
    "\n",
    "print(translate('Go!'))\n",
    "print(translate('It\\'s not Fine.'))\n",
    "print(translate('I\\'m very happy today.'))\n",
    "print(translate('He\\'s very sad.'))\n",
    "print(translate('That man is wearing a white shirt.'))\n",
    "print(translate('He\\'s very afraid of spiders.'))\n",
    "print(translate('He\\'s going home to his wife.'))\n",
    "print(translate('Those guys are walking to work.'))\n",
    "print(translate('I\\'m not going with you today.'))\n",
    "print(translate('My girlfriend will not come over tomorrow.'))\n",
    "print(translate('He bought his friends a present for christmas.'))\n"
   ]
  },
  {
   "cell_type": "code",
   "execution_count": 36,
   "metadata": {},
   "outputs": [],
   "source": [
    "import matplotlib.pyplot as plt\n",
    "\n",
    "def evaluateAndShowAttention():\n",
    "\n",
    "    ''' Sample a random sentence from the test data '''\n",
    "    input_tokens = test_data.sample()['ENG_TOKENS'].iloc[0].split()\n",
    "    input_indices = eng_vocab.lookup_indices(input_tokens)\n",
    "\n",
    "    output_indices, attentions = model.evaluate(input_indices, device)\n",
    "    output_indices = output_indices[1:] # Remove single batch dimension\n",
    "    output_tokens = nld_vocab.lookup_tokens(output_indices)\n",
    "\n",
    "    attentions = attentions.cpu().numpy()\n",
    "    \n",
    "    fig = plt.figure(figsize=(10, 10))\n",
    "    ax = fig.add_subplot(111)\n",
    "    cax = ax.matshow(attentions, cmap='plasma')\n",
    "    fig.colorbar(cax)\n",
    "                       \n",
    "    # Set up axes\n",
    "    ax.set_xticks(range(len(input_tokens)))\n",
    "    ax.set_yticks(range(len(output_tokens)))\n",
    "\n",
    "    ax.set_xticklabels(input_tokens, rotation=90)\n",
    "    ax.set_yticklabels(output_tokens)\n",
    "\n",
    "    plt.show()"
   ]
  },
  {
   "cell_type": "code",
   "execution_count": 37,
   "metadata": {},
   "outputs": [
    {
     "data": {
      "image/png": "[encoded data removed]",
      "text/plain": [
       "<Figure size 1000x1000 with 2 Axes>"
      ]
     },
     "metadata": {},
     "output_type": "display_data"
    }
   ],
   "source": [
    "evaluateAndShowAttention()"
   ]
  }
 ],
 "metadata": {
  "kernelspec": {
   "display_name": ".venv",
   "language": "python",
   "name": "python3"
  },
  "language_info": {
   "codemirror_mode": {
    "name": "ipython",
    "version": 3
   },
   "file_extension": ".py",
   "mimetype": "text/x-python",
   "name": "python",
   "nbconvert_exporter": "python",
   "pygments_lexer": "ipython3",
   "version": "3.12.3"
  }
 },
 "nbformat": 4,
 "nbformat_minor": 2
}
